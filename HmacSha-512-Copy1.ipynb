{
 "cells": [
  {
   "cell_type": "code",
   "execution_count": 3,
   "id": "4c567c1a",
   "metadata": {},
   "outputs": [
    {
     "name": "stdin",
     "output_type": "stream",
     "text": [
      "Enter Message: hi\n"
     ]
    }
   ],
   "source": [
    "msg = input(\"Enter Message:\")"
   ]
  },
  {
   "cell_type": "code",
   "execution_count": 5,
   "id": "65bb20b6",
   "metadata": {},
   "outputs": [],
   "source": [
    "from mpmath import * # Python library for real and complex floating-point arithmetic with arbitrary precision\n",
    "\n",
    "import sympy as s # Python library for symbolic mathematics and number theory package\n",
    "\n",
    "from sympy.solvers.diophantine import diophantine # solves the linear cong"
   ]
  },
  {
   "cell_type": "code",
   "execution_count": 6,
   "id": "872a206b",
   "metadata": {},
   "outputs": [
    {
     "data": {
      "text/plain": [
       "'0110100001101001'"
      ]
     },
     "execution_count": 6,
     "metadata": {},
     "output_type": "execute_result"
    }
   ],
   "source": [
    "msg_bits=''.join(format(ord(i), 'b').zfill(8) for i in msg)\n",
    "msg_bits"
   ]
  },
  {
   "cell_type": "code",
   "execution_count": 1,
   "id": "c3b4f34d",
   "metadata": {},
   "outputs": [],
   "source": [
    "def bin_hex(value):\n",
    "    value=''.join([str(x) for x in value])\n",
    "    binaries=[]\n",
    "    for d in range(0, len(value), 4):\n",
    "        binaries.append('0b' + value[d:d+4])\n",
    "        for b in binaries:\n",
    "            hexes+= hex(int(b,2))[2:]\n",
    "            return hexes"
   ]
  },
  {
   "cell_type": "code",
   "execution_count": 2,
   "id": "f6a4942d",
   "metadata": {},
   "outputs": [
    {
     "ename": "NameError",
     "evalue": "name 'msg_bits' is not defined",
     "output_type": "error",
     "traceback": [
      "\u001b[1;31m---------------------------------------------------------------------------\u001b[0m",
      "\u001b[1;31mNameError\u001b[0m                                 Traceback (most recent call last)",
      "Cell \u001b[1;32mIn[2], line 1\u001b[0m\n\u001b[1;32m----> 1\u001b[0m l \u001b[38;5;241m=\u001b[39m \u001b[38;5;28mlen\u001b[39m(\u001b[43mmsg_bits\u001b[49m)\n\u001b[0;32m      2\u001b[0m l\n",
      "\u001b[1;31mNameError\u001b[0m: name 'msg_bits' is not defined"
     ]
    }
   ],
   "source": [
    "l = len(msg_bits)\n",
    "l"
   ]
  },
  {
   "cell_type": "code",
   "execution_count": 9,
   "id": "21d6a865",
   "metadata": {},
   "outputs": [
    {
     "data": {
      "text/plain": [
       "'00000000000000000000000000000000000000000000000000000000000000000000000000000000000000000000000000000000000000000000000000010000'"
      ]
     },
     "execution_count": 9,
     "metadata": {},
     "output_type": "execute_result"
    }
   ],
   "source": [
    "L_binary = bin(l)[2:] # 128-bit representation of l\n",
    "L_binary.zfill(128)"
   ]
  },
  {
   "cell_type": "code",
   "execution_count": 17,
   "id": "2a8bc5ec",
   "metadata": {},
   "outputs": [
    {
     "ename": "NameError",
     "evalue": "name 'msg_bits' is not defined",
     "output_type": "error",
     "traceback": [
      "\u001b[1;31m---------------------------------------------------------------------------\u001b[0m",
      "\u001b[1;31mNameError\u001b[0m                                 Traceback (most recent call last)",
      "Cell \u001b[1;32mIn[17], line 1\u001b[0m\n\u001b[1;32m----> 1\u001b[0m message_bits_concatenate_one \u001b[38;5;241m=\u001b[39m\u001b[43mmsg_bits\u001b[49m \u001b[38;5;241m+\u001b[39m \u001b[38;5;124m'\u001b[39m\u001b[38;5;124m1\u001b[39m\u001b[38;5;124m'\u001b[39m \u001b[38;5;66;03m# add 1 to the message\u001b[39;00m\n\u001b[0;32m      2\u001b[0m message_bits_concatenate_one\n",
      "\u001b[1;31mNameError\u001b[0m: name 'msg_bits' is not defined"
     ]
    }
   ],
   "source": [
    "message_bits_concatenate_one =msg_bits + '1' # add 1 to the message\n",
    "message_bits_concatenate_one\n"
   ]
  },
  {
   "cell_type": "code",
   "execution_count": 18,
   "id": "963faf12",
   "metadata": {},
   "outputs": [
    {
     "ename": "NameError",
     "evalue": "name 's' is not defined",
     "output_type": "error",
     "traceback": [
      "\u001b[1;31m---------------------------------------------------------------------------\u001b[0m",
      "\u001b[1;31mNameError\u001b[0m                                 Traceback (most recent call last)",
      "Cell \u001b[1;32mIn[18], line 1\u001b[0m\n\u001b[1;32m----> 1\u001b[0m k, m \u001b[38;5;241m=\u001b[39m \u001b[43ms\u001b[49m\u001b[38;5;241m.\u001b[39msymbols(\u001b[38;5;124m\"\u001b[39m\u001b[38;5;124mk, m\u001b[39m\u001b[38;5;124m\"\u001b[39m, integer \u001b[38;5;241m=\u001b[39m \u001b[38;5;28;01mTrue\u001b[39;00m)\n",
      "\u001b[1;31mNameError\u001b[0m: name 's' is not defined"
     ]
    }
   ],
   "source": [
    "k, m = s.symbols(\"k, m\", integer = True)"
   ]
  },
  {
   "cell_type": "code",
   "execution_count": 12,
   "id": "13923dcc",
   "metadata": {},
   "outputs": [],
   "source": [
    "x = 1 + l + k\n",
    "b = 1024\n",
    "c = 896"
   ]
  },
  {
   "cell_type": "code",
   "execution_count": 13,
   "id": "62ea87f7",
   "metadata": {},
   "outputs": [
    {
     "data": {
      "text/plain": [
       "{(1024*t_0 + 879, -t_0)}"
      ]
     },
     "execution_count": 13,
     "metadata": {},
     "output_type": "execute_result"
    }
   ],
   "source": [
    "diophantine(x + b*m - c)"
   ]
  },
  {
   "cell_type": "code",
   "execution_count": 8,
   "id": "0f37c21c",
   "metadata": {},
   "outputs": [
    {
     "data": {
      "text/plain": [
       "'0000000000000000000000000000000000000000000000000000000000000000000000000000000000000000000000000000000000000000000000000000000000000000000000000000000000000000000000000000000000000000000000000000000000000000000000000000000000000000000000000000000000000000000000000000000000000000000000000000000000000000000000000000000000000000000000000000000000000000000000000000000000000000000000000000000000000000000000000000000000000000000000000000000000000000000000000000000000000000000000000000000000000000000000000000000000000000000000000000000000000000000000000000000000000000000000000000000000000000000000000000000000000000000000000000000000000000000000000000000000000000000000000000000000000000000000000000000000000000000000000000000000000000000000000000000000000000000000000000000000000000000000000000000000000000000000000000000000000000000000000000000000000000000000000000000000000000000000000000000000000000000000000000000000000000000000000000000000000000000000000000000000000000000000000000000000000000000000000000000001001000'"
      ]
     },
     "execution_count": 8,
     "metadata": {},
     "output_type": "execute_result"
    }
   ],
   "source": [
    "#import random\n",
    "#K=random.getrandbits(1024)\n",
    "K= 72\n",
    "k1 = bin(K)[2:] \n",
    "k=k1.zfill(1024)\n",
    "k"
   ]
  },
  {
   "cell_type": "code",
   "execution_count": 23,
   "id": "fe7f9a13-06ef-4cfb-a19c-a95ba5f9a854",
   "metadata": {},
   "outputs": [
    {
     "ename": "TypeError",
     "evalue": "'str' object cannot be interpreted as an integer",
     "output_type": "error",
     "traceback": [
      "\u001b[1;31m---------------------------------------------------------------------------\u001b[0m",
      "\u001b[1;31mTypeError\u001b[0m                                 Traceback (most recent call last)",
      "Cell \u001b[1;32mIn[23], line 1\u001b[0m\n\u001b[1;32m----> 1\u001b[0m k\u001b[38;5;241m=\u001b[39m\u001b[38;5;28mint\u001b[39m(\u001b[38;5;28;43mbin\u001b[39;49m\u001b[43m(\u001b[49m\u001b[43mk\u001b[49m\u001b[43m)\u001b[49m)\n\u001b[0;32m      2\u001b[0m k\n",
      "\u001b[1;31mTypeError\u001b[0m: 'str' object cannot be interpreted as an integer"
     ]
    }
   ],
   "source": [
    "k=bin(k)\n",
    "k"
   ]
  },
  {
   "cell_type": "code",
   "execution_count": 22,
   "id": "9221e2d7-7cff-4c3f-b5f9-7b59348ceb6d",
   "metadata": {},
   "outputs": [
    {
     "data": {
      "text/plain": [
       "22"
      ]
     },
     "execution_count": 22,
     "metadata": {},
     "output_type": "execute_result"
    }
   ],
   "source": [
    "lk=len(k)\n",
    "lk"
   ]
  },
  {
   "cell_type": "code",
   "execution_count": 11,
   "id": "366a316f-bb42-439b-a7f6-27969dec547d",
   "metadata": {},
   "outputs": [],
   "source": [
    "ipad = '00110110'"
   ]
  },
  {
   "cell_type": "code",
   "execution_count": 12,
   "id": "186ad36a-7f2b-4e4a-86c6-eefd649d96b1",
   "metadata": {},
   "outputs": [
    {
     "data": {
      "text/plain": [
       "'0011011000110110001101100011011000110110001101100011011000110110001101100011011000110110001101100011011000110110001101100011011000110110001101100011011000110110001101100011011000110110001101100011011000110110001101100011011000110110001101100011011000110110001101100011011000110110001101100011011000110110001101100011011000110110001101100011011000110110001101100011011000110110001101100011011000110110001101100011011000110110001101100011011000110110001101100011011000110110001101100011011000110110001101100011011000110110001101100011011000110110001101100011011000110110001101100011011000110110001101100011011000110110001101100011011000110110001101100011011000110110001101100011011000110110001101100011011000110110001101100011011000110110001101100011011000110110001101100011011000110110001101100011011000110110001101100011011000110110001101100011011000110110001101100011011000110110001101100011011000110110001101100011011000110110001101100011011000110110001101100011011000110110001101100011011000110110001101100011011000110110'"
      ]
     },
     "execution_count": 12,
     "metadata": {},
     "output_type": "execute_result"
    }
   ],
   "source": [
    "i_pad= ipad*128\n",
    "i_pad"
   ]
  },
  {
   "cell_type": "code",
   "execution_count": 14,
   "id": "74c21716-3dc3-44f1-abf7-f68b2a508b84",
   "metadata": {},
   "outputs": [
    {
     "data": {
      "text/plain": [
       "11011000110110001101100011011000110110001101100011011000110110001101100011011000110110001101100011011000110110001101100011011000110110001101100011011000110110001101100011011000110110001101100011011000110110001101100011011000110110001101100011011000110110001101100011011000110110001101100011011000110110001101100011011000110110001101100011011000110110001101100011011000110110001101100011011000110110001101100011011000110110001101100011011000110110001101100011011000110110001101100011011000110110001101100011011000110110001101100011011000110110001101100011011000110110001101100011011000110110001101100011011000110110001101100011011000110110001101100011011000110110001101100011011000110110001101100011011000110110001101100011011000110110001101100011011000110110001101100011011000110110001101100011011000110110001101100011011000110110001101100011011000110110001101100011011000110110001101100011011000110110001101100011011000110110001101100011011000110110001101100011011000110110001101100011011000110110001101100011011000110110"
      ]
     },
     "execution_count": 14,
     "metadata": {},
     "output_type": "execute_result"
    }
   ],
   "source": [
    "iipad=int(i_pad)\n",
    "iipad"
   ]
  },
  {
   "cell_type": "code",
   "execution_count": 15,
   "id": "7d98d9c9-1cb0-4325-81ed-5475f8eb83b3",
   "metadata": {},
   "outputs": [
    {
     "data": {
      "text/plain": [
       "1024"
      ]
     },
     "execution_count": 15,
     "metadata": {},
     "output_type": "execute_result"
    }
   ],
   "source": [
    "i=len(i_pad)\n",
    "i"
   ]
  },
  {
   "cell_type": "code",
   "execution_count": 16,
   "id": "2de01311-ccc9-4af8-bcbe-9e4178040af4",
   "metadata": {},
   "outputs": [],
   "source": [
    "opad = '01011100'"
   ]
  },
  {
   "cell_type": "code",
   "execution_count": 17,
   "id": "650103f9-9de8-4850-a5ae-6852ad350ea7",
   "metadata": {},
   "outputs": [
    {
     "data": {
      "text/plain": [
       "'0101110001011100010111000101110001011100010111000101110001011100010111000101110001011100010111000101110001011100010111000101110001011100010111000101110001011100010111000101110001011100010111000101110001011100010111000101110001011100010111000101110001011100010111000101110001011100010111000101110001011100010111000101110001011100010111000101110001011100010111000101110001011100010111000101110001011100010111000101110001011100010111000101110001011100010111000101110001011100010111000101110001011100010111000101110001011100010111000101110001011100010111000101110001011100010111000101110001011100010111000101110001011100010111000101110001011100010111000101110001011100010111000101110001011100010111000101110001011100010111000101110001011100010111000101110001011100010111000101110001011100010111000101110001011100010111000101110001011100010111000101110001011100010111000101110001011100010111000101110001011100010111000101110001011100010111000101110001011100010111000101110001011100010111000101110001011100010111000101110001011100'"
      ]
     },
     "execution_count": 17,
     "metadata": {},
     "output_type": "execute_result"
    }
   ],
   "source": [
    "o_pad= opad*128\n",
    "o_pad"
   ]
  },
  {
   "cell_type": "code",
   "execution_count": 18,
   "id": "87ef08dc-0f33-440c-9a9b-791d80df8aae",
   "metadata": {},
   "outputs": [
    {
     "data": {
      "text/plain": [
       "101110001011100010111000101110001011100010111000101110001011100010111000101110001011100010111000101110001011100010111000101110001011100010111000101110001011100010111000101110001011100010111000101110001011100010111000101110001011100010111000101110001011100010111000101110001011100010111000101110001011100010111000101110001011100010111000101110001011100010111000101110001011100010111000101110001011100010111000101110001011100010111000101110001011100010111000101110001011100010111000101110001011100010111000101110001011100010111000101110001011100010111000101110001011100010111000101110001011100010111000101110001011100010111000101110001011100010111000101110001011100010111000101110001011100010111000101110001011100010111000101110001011100010111000101110001011100010111000101110001011100010111000101110001011100010111000101110001011100010111000101110001011100010111000101110001011100010111000101110001011100010111000101110001011100010111000101110001011100010111000101110001011100010111000101110001011100010111000101110001011100"
      ]
     },
     "execution_count": 18,
     "metadata": {},
     "output_type": "execute_result"
    }
   ],
   "source": [
    "oopad=int(o_pad)\n",
    "oopad"
   ]
  },
  {
   "cell_type": "code",
   "execution_count": 19,
   "id": "cd201f40-f109-441d-8812-65a870aebfd6",
   "metadata": {},
   "outputs": [
    {
     "data": {
      "text/plain": [
       "1024"
      ]
     },
     "execution_count": 19,
     "metadata": {},
     "output_type": "execute_result"
    }
   ],
   "source": [
    "o=len(o_pad)\n",
    "o"
   ]
  },
  {
   "cell_type": "code",
   "execution_count": 20,
   "id": "8c679e7c-1b88-4648-b55a-8c5e127c5c9b",
   "metadata": {},
   "outputs": [
    {
     "data": {
      "text/plain": [
       "11011000110110001101100011011000110110001101100011011000110110001101100011011000110110001101100011011000110110001101100011011000110110001101100011011000110110001101100011011000110110001101100011011000110110001101100011011000110110001101100011011000110110001101100011011000110110001101100011011000110110001101100011011000110110001101100011011000110110001101100011011000110110001101100011011000110110001101100011011000110110001101100011011000110110001101100011011000110110001101100011011000110110001101100011011000110110001101100011011000110110001101100011011000110110001101100011011000110110001101100011011000110110001101100011011000110110001101100011011000110110001101100011011000110110001101100011011000110110001101100011011000110110001101100011011000110110001101100011011000110110001101100011011000110110001101100011011000110110001101100011011000110110001101100011011000110110001101100011011000110110001101100011011000110110001101100011011000110110001101100011011000110110001101100011011000110110001101100011010999274038"
      ]
     },
     "execution_count": 20,
     "metadata": {},
     "output_type": "execute_result"
    }
   ],
   "source": [
    "si= iipad^k\n",
    "si"
   ]
  },
  {
   "cell_type": "code",
   "execution_count": null,
   "id": "0fbed047-a08b-40ac-9b23-8e822fb71455",
   "metadata": {},
   "outputs": [],
   "source": []
  },
  {
   "cell_type": "code",
   "execution_count": 56,
   "id": "6636807d",
   "metadata": {},
   "outputs": [
    {
     "ename": "NameError",
     "evalue": "name 'diophantine' is not defined",
     "output_type": "error",
     "traceback": [
      "\u001b[1;31m---------------------------------------------------------------------------\u001b[0m",
      "\u001b[1;31mNameError\u001b[0m                                 Traceback (most recent call last)",
      "Cell \u001b[1;32mIn[56], line 1\u001b[0m\n\u001b[1;32m----> 1\u001b[0m sol \u001b[38;5;241m=\u001b[39m \u001b[38;5;28mlist\u001b[39m(\u001b[43mdiophantine\u001b[49m(x \u001b[38;5;241m+\u001b[39m b\u001b[38;5;241m*\u001b[39mm \u001b[38;5;241m-\u001b[39m c))[\u001b[38;5;241m0\u001b[39m][\u001b[38;5;241m0\u001b[39m]\n\u001b[0;32m      2\u001b[0m sol\u001b[38;5;241m.\u001b[39margs\n",
      "\u001b[1;31mNameError\u001b[0m: name 'diophantine' is not defined"
     ]
    }
   ],
   "source": [
    "sol = list(diophantine(x + b*m - c))[0][0]\n",
    "sol.args"
   ]
  },
  {
   "cell_type": "code",
   "execution_count": 29,
   "id": "7a95c5c6",
   "metadata": {},
   "outputs": [
    {
     "ename": "NameError",
     "evalue": "name 'sol' is not defined",
     "output_type": "error",
     "traceback": [
      "\u001b[1;31m---------------------------------------------------------------------------\u001b[0m",
      "\u001b[1;31mNameError\u001b[0m                                 Traceback (most recent call last)",
      "Cell \u001b[1;32mIn[29], line 1\u001b[0m\n\u001b[1;32m----> 1\u001b[0m \u001b[43msol\u001b[49m\u001b[38;5;241m.\u001b[39margs[\u001b[38;5;241m0\u001b[39m] \u001b[38;5;241m%\u001b[39m \u001b[38;5;241m1024\u001b[39m \u001b[38;5;66;03m# or b for 1024\u001b[39;00m\n\u001b[0;32m      2\u001b[0m \u001b[38;5;28mtype\u001b[39m(sol\u001b[38;5;241m.\u001b[39margs[\u001b[38;5;241m0\u001b[39m] \u001b[38;5;241m%\u001b[39m \u001b[38;5;241m1024\u001b[39m)\n",
      "\u001b[1;31mNameError\u001b[0m: name 'sol' is not defined"
     ]
    }
   ],
   "source": [
    "sol.args[0] % 1024 # or b for 1024\n",
    "type(sol.args[0] % 1024)"
   ]
  },
  {
   "cell_type": "code",
   "execution_count": 30,
   "id": "1eab80d6",
   "metadata": {},
   "outputs": [
    {
     "ename": "NameError",
     "evalue": "name 'sol' is not defined",
     "output_type": "error",
     "traceback": [
      "\u001b[1;31m---------------------------------------------------------------------------\u001b[0m",
      "\u001b[1;31mNameError\u001b[0m                                 Traceback (most recent call last)",
      "Cell \u001b[1;32mIn[30], line 1\u001b[0m\n\u001b[1;32m----> 1\u001b[0m \u001b[38;5;28mint\u001b[39m(\u001b[43msol\u001b[49m\u001b[38;5;241m.\u001b[39margs[\u001b[38;5;241m0\u001b[39m] \u001b[38;5;241m%\u001b[39m \u001b[38;5;241m1024\u001b[39m)\n",
      "\u001b[1;31mNameError\u001b[0m: name 'sol' is not defined"
     ]
    }
   ],
   "source": [
    "int(sol.args[0] % 1024)"
   ]
  },
  {
   "cell_type": "code",
   "execution_count": 15,
   "id": "1d1f5ef9",
   "metadata": {
    "scrolled": true
   },
   "outputs": [
    {
     "data": {
      "text/plain": [
       "847"
      ]
     },
     "execution_count": 15,
     "metadata": {},
     "output_type": "execute_result"
    }
   ],
   "source": [
    "zero_pad = int(sol.args[0] % 1024)\n",
    "zero_pad"
   ]
  },
  {
   "cell_type": "code",
   "execution_count": 16,
   "id": "d1c7f5fc",
   "metadata": {},
   "outputs": [
    {
     "data": {
      "text/plain": [
       "'00000000000000000000000000000000000000000000000000000000000000000000000000000000000000000000000000000000000000000000000000110000'"
      ]
     },
     "execution_count": 16,
     "metadata": {},
     "output_type": "execute_result"
    }
   ],
   "source": [
    "L_binary = bin(l)[2:] # 128-bit representation of l\n",
    "L_binary.zfill(128)"
   ]
  },
  {
   "cell_type": "code",
   "execution_count": 17,
   "id": "e4668ecf",
   "metadata": {},
   "outputs": [
    {
     "data": {
      "text/plain": [
       "'00'"
      ]
     },
     "execution_count": 17,
     "metadata": {},
     "output_type": "execute_result"
    }
   ],
   "source": [
    "'0' * 2 # multiplying a string with an integer "
   ]
  },
  {
   "cell_type": "code",
   "execution_count": 18,
   "id": "d5ad1685",
   "metadata": {},
   "outputs": [
    {
     "data": {
      "text/plain": [
       "'0100110101101111011010000110111101101110011000011000000000000000000000000000000000000000000000000000000000000000000000000000000000000000000000000000000000000000000000000000000000000000000000000000000000000000000000000000000000000000000000000000000000000000000000000000000000000000000000000000000000000000000000000000000000000000000000000000000000000000000000000000000000000000000000000000000000000000000000000000000000000000000000000000000000000000000000000000000000000000000000000000000000000000000000000000000000000000000000000000000000000000000000000000000000000000000000000000000000000000000000000000000000000000000000000000000000000000000000000000000000000000000000000000000000000000000000000000000000000000000000000000000000000000000000000000000000000000000000000000000000000000000000000000000000000000000000000000000000000000000000000000000000000000000000000000000000000000000000000000000000000000000000000000000000000000000000000000000000000000000000000000000000000000000000000000000000000000000000000000000000110000'"
      ]
     },
     "execution_count": 18,
     "metadata": {},
     "output_type": "execute_result"
    }
   ],
   "source": [
    "message_padded = message_bits_concatenate_one + '0' * zero_pad + L_binary.zfill(128)\n",
    "message_padded"
   ]
  },
  {
   "cell_type": "code",
   "execution_count": 19,
   "id": "18a55f98",
   "metadata": {},
   "outputs": [
    {
     "data": {
      "text/plain": [
       "1024"
      ]
     },
     "execution_count": 19,
     "metadata": {},
     "output_type": "execute_result"
    }
   ],
   "source": [
    "len(message_padded)"
   ]
  },
  {
   "cell_type": "code",
   "execution_count": 20,
   "id": "2f14c40d",
   "metadata": {},
   "outputs": [
    {
     "data": {
      "text/plain": [
       "['0100110101101111011010000110111101101110011000011000000000000000',\n",
       " '0000000000000000000000000000000000000000000000000000000000000000',\n",
       " '0000000000000000000000000000000000000000000000000000000000000000',\n",
       " '0000000000000000000000000000000000000000000000000000000000000000',\n",
       " '0000000000000000000000000000000000000000000000000000000000000000',\n",
       " '0000000000000000000000000000000000000000000000000000000000000000',\n",
       " '0000000000000000000000000000000000000000000000000000000000000000',\n",
       " '0000000000000000000000000000000000000000000000000000000000000000',\n",
       " '0000000000000000000000000000000000000000000000000000000000000000',\n",
       " '0000000000000000000000000000000000000000000000000000000000000000',\n",
       " '0000000000000000000000000000000000000000000000000000000000000000',\n",
       " '0000000000000000000000000000000000000000000000000000000000000000',\n",
       " '0000000000000000000000000000000000000000000000000000000000000000',\n",
       " '0000000000000000000000000000000000000000000000000000000000000000',\n",
       " '0000000000000000000000000000000000000000000000000000000000000000',\n",
       " '0000000000000000000000000000000000000000000000000000000000110000']"
      ]
     },
     "execution_count": 20,
     "metadata": {},
     "output_type": "execute_result"
    }
   ],
   "source": [
    "W = [message_padded[i:i+64] for i in range(0, len(message_padded), 64)]\n",
    "W"
   ]
  },
  {
   "cell_type": "code",
   "execution_count": 21,
   "id": "eaa02916",
   "metadata": {},
   "outputs": [
    {
     "data": {
      "text/plain": [
       "16"
      ]
     },
     "execution_count": 21,
     "metadata": {},
     "output_type": "execute_result"
    }
   ],
   "source": [
    "len(W)"
   ]
  },
  {
   "cell_type": "code",
   "execution_count": 22,
   "id": "790fc34c",
   "metadata": {},
   "outputs": [],
   "source": [
    "def right_rotation(string, n):\n",
    "    n = n % len(string)\n",
    "    return string[-n:] + string[:-n]"
   ]
  },
  {
   "cell_type": "code",
   "execution_count": null,
   "id": "8c4c44db",
   "metadata": {},
   "outputs": [],
   "source": [
    "string"
   ]
  },
  {
   "cell_type": "code",
   "execution_count": null,
   "id": "d782a423",
   "metadata": {},
   "outputs": [],
   "source": [
    "right_rotation(string, 2)"
   ]
  },
  {
   "cell_type": "code",
   "execution_count": null,
   "id": "da65ed46",
   "metadata": {},
   "outputs": [],
   "source": [
    "right_rotation(string, 5)"
   ]
  },
  {
   "cell_type": "code",
   "execution_count": 43,
   "id": "4fcd3838",
   "metadata": {},
   "outputs": [],
   "source": [
    "def ch(x, y, z):\n",
    "    x = x.zfill(64)\n",
    "    \n",
    "    s1 = int(x, 2)\n",
    "    s2 = int(y, 2)\n",
    "    s3 = int(z, 2)\n",
    "    \n",
    "    s12 = s1 & s2\n",
    "    \n",
    "    s13 = int(bit_wise_complement(x), 2) & s3\n",
    "    \n",
    "    string = bin(s12 ^ s13)[2:]\n",
    "    \n",
    "    return (string.zfill(64))"
   ]
  },
  {
   "cell_type": "code",
   "execution_count": null,
   "id": "209cf114",
   "metadata": {},
   "outputs": [],
   "source": [
    "ch(\"1\", \"0\", \"0\")"
   ]
  },
  {
   "cell_type": "code",
   "execution_count": 46,
   "id": "7e918de8",
   "metadata": {},
   "outputs": [],
   "source": [
    "def maj(x, y, z):\n",
    "    s1 = int(x, 2)\n",
    "    s2 = int(y, 2)\n",
    "    s3 = int(z, 2)\n",
    "    \n",
    "    s12 = s1 & s2\n",
    "    s13 = s1 & s3\n",
    "    s23 = s2 & s3\n",
    "    \n",
    "    string = bin(s12 ^ s13 ^ s23)[2:]\n",
    "    \n",
    "    return (string.zfill(64))"
   ]
  },
  {
   "cell_type": "code",
   "execution_count": null,
   "id": "d3bc7342",
   "metadata": {},
   "outputs": [],
   "source": [
    "maj(\"1\", \"0\", \"0\")"
   ]
  },
  {
   "cell_type": "code",
   "execution_count": 33,
   "id": "56d4db64",
   "metadata": {},
   "outputs": [],
   "source": [
    "def sigma_0(x):\n",
    "    x = x.zfill(64)\n",
    "    \n",
    "    s1 = int(right_rotation(x, 1), 2)\n",
    "    s2 = int(right_rotation(x, 8), 2)\n",
    "    s3 = int(x, 2) >> 7\n",
    "    \n",
    "    string = bin(s1 ^ s2 ^ s3)[2:]\n",
    "    \n",
    "    return (string.zfill(64))"
   ]
  },
  {
   "cell_type": "code",
   "execution_count": null,
   "id": "5b7dfb66",
   "metadata": {},
   "outputs": [],
   "source": [
    "Sigma_0(\"1\")"
   ]
  },
  {
   "cell_type": "code",
   "execution_count": null,
   "id": "a1ae4cfb",
   "metadata": {},
   "outputs": [],
   "source": [
    "len(\"0000000000000000000000000001\")"
   ]
  },
  {
   "cell_type": "code",
   "execution_count": 23,
   "id": "9ffb56ad",
   "metadata": {},
   "outputs": [
    {
     "data": {
      "text/plain": [
       "array('l', [2, 3, 5, 7, 11, 13, 17, 19])"
      ]
     },
     "execution_count": 23,
     "metadata": {},
     "output_type": "execute_result"
    }
   ],
   "source": [
    "first_eight_primes = s.sieve[1:9] # the first 8 primes\n",
    "first_eight_primes"
   ]
  },
  {
   "cell_type": "code",
   "execution_count": 24,
   "id": "fe82467e",
   "metadata": {},
   "outputs": [],
   "source": [
    "def sqrt_64bits_hex(n): # the 64-bit of the fractional part of the square root\n",
    "    return (hex(int(fmul(frac(sqrt(n)), pow(2, 64))))[2:])"
   ]
  },
  {
   "cell_type": "code",
   "execution_count": 25,
   "id": "b3c872d9",
   "metadata": {},
   "outputs": [
    {
     "data": {
      "text/plain": [
       "'bb67ae8584caa000'"
      ]
     },
     "execution_count": 25,
     "metadata": {},
     "output_type": "execute_result"
    }
   ],
   "source": [
    "sqrt_64bits_hex(3)"
   ]
  },
  {
   "cell_type": "code",
   "execution_count": 26,
   "id": "cab96b83",
   "metadata": {},
   "outputs": [
    {
     "data": {
      "text/plain": [
       "['6a09e667f3bcd000',\n",
       " 'bb67ae8584caa000',\n",
       " '3c6ef372fe950000',\n",
       " 'a54ff53a5f1d4000',\n",
       " '510e527fade68000',\n",
       " '9b05688c2b3e6000',\n",
       " '1f83d9abfb41c000',\n",
       " '5be0cd19137e4000']"
      ]
     },
     "execution_count": 26,
     "metadata": {},
     "output_type": "execute_result"
    }
   ],
   "source": [
    "bin_fraction_8primes = [sqrt_64bits_hex(i) for i in first_eight_primes]\n",
    "bin_fraction_8primes"
   ]
  },
  {
   "cell_type": "code",
   "execution_count": 27,
   "id": "2959099f",
   "metadata": {},
   "outputs": [
    {
     "data": {
      "text/plain": [
       "array('l', [2, 3, 5, 7, 11, 13, 17, 19, 23, 29, 31, 37, 41, 43, 47, 53, 59, 61, 67, 71, 73, 79, 83, 89, 97, 101, 103, 107, 109, 113, 127, 131, 137, 139, 149, 151, 157, 163, 167, 173, 179, 181, 191, 193, 197, 199, 211, 223, 227, 229, 233, 239, 241, 251, 257, 263, 269, 271, 277, 281, 283, 293, 307, 311, 313, 317, 331, 337, 347, 349, 353, 359, 367, 373, 379, 383, 389, 397, 401, 409])"
      ]
     },
     "execution_count": 27,
     "metadata": {},
     "output_type": "execute_result"
    }
   ],
   "source": [
    "first_eighty_primes = s.sieve[1:81] \n",
    "first_eighty_primes"
   ]
  },
  {
   "cell_type": "code",
   "execution_count": 28,
   "id": "0909e037",
   "metadata": {},
   "outputs": [],
   "source": [
    "def cube_roots_64bits_hex(n): # the 64-bit of the fractional part of the cube root\n",
    "    return (hex(int(fmul(frac(cbrt(n)), pow(2, 64))))[2:])"
   ]
  },
  {
   "cell_type": "code",
   "execution_count": 31,
   "id": "af98723e",
   "metadata": {},
   "outputs": [
    {
     "data": {
      "text/plain": [
       "'0000000000000100010000000000000000000000100000000000000000000000'"
      ]
     },
     "execution_count": 31,
     "metadata": {},
     "output_type": "execute_result"
    }
   ],
   "source": [
    "Sigma_1(\"1\")"
   ]
  },
  {
   "cell_type": "code",
   "execution_count": 29,
   "id": "c9a1e1c0",
   "metadata": {},
   "outputs": [
    {
     "data": {
      "text/plain": [
       "'428a2f98d728b000'"
      ]
     },
     "execution_count": 29,
     "metadata": {},
     "output_type": "execute_result"
    }
   ],
   "source": [
    "cube_roots_64bits_hex(2)"
   ]
  },
  {
   "cell_type": "code",
   "execution_count": 45,
   "id": "9a58de12",
   "metadata": {},
   "outputs": [],
   "source": [
    "def Sigma_0(x):\n",
    "    x = x.zfill(64)\n",
    "    \n",
    "    s1 = int(right_rotation(x, 28), 2)\n",
    "    s2 = int(right_rotation(x, 34), 2)\n",
    "    s3 = int(right_rotation(x, 39), 2)\n",
    "    \n",
    "    string = bin(s1 ^ s2 ^ s3)[2:]\n",
    "    \n",
    "    return (string.zfill(64))"
   ]
  },
  {
   "cell_type": "code",
   "execution_count": 30,
   "id": "62e6ce48",
   "metadata": {},
   "outputs": [],
   "source": [
    "def Sigma_1(x):\n",
    "    x = x.zfill(64)\n",
    "    \n",
    "    s1 = int(right_rotation(x, 14), 2)\n",
    "    s2 = int(right_rotation(x, 18), 2)\n",
    "    s3 = int(right_rotation(x, 41), 2)\n",
    "    \n",
    "    string = bin(s1 ^ s2 ^ s3)[2:]\n",
    "    \n",
    "    return (string.zfill(64))"
   ]
  },
  {
   "cell_type": "code",
   "execution_count": null,
   "id": "11652c6d",
   "metadata": {},
   "outputs": [],
   "source": [
    "Sigma_1(\"1\")"
   ]
  },
  {
   "cell_type": "code",
   "execution_count": 32,
   "id": "6e30001d",
   "metadata": {},
   "outputs": [
    {
     "data": {
      "text/plain": [
       "14"
      ]
     },
     "execution_count": 32,
     "metadata": {},
     "output_type": "execute_result"
    }
   ],
   "source": [
    "len(\"00000000000001\")"
   ]
  },
  {
   "cell_type": "code",
   "execution_count": 34,
   "id": "674b8c55",
   "metadata": {},
   "outputs": [],
   "source": [
    "def sigma_1(x):\n",
    "    x = x.zfill(64)\n",
    "    \n",
    "    s1 = int(right_rotation(x, 19), 2)\n",
    "    s2 = int(right_rotation(x, 61), 2)\n",
    "    s3 = int(x, 2) >> 6\n",
    "    \n",
    "    string = bin(s1 ^ s2 ^ s3)[2:]\n",
    "    \n",
    "    return (string.zfill(64))"
   ]
  },
  {
   "cell_type": "code",
   "execution_count": 35,
   "id": "fe9ea11f",
   "metadata": {},
   "outputs": [],
   "source": [
    "def next_W(W):\n",
    "    s1 = int(sigma_1(W[-2]), 2)\n",
    "    s2 = int(W[-7], 2)\n",
    "    s3 = int(sigma_0(W[-15]), 2)\n",
    "    s4 = int(W[-16], 2)\n",
    "    \n",
    "    string = bin((s1 + s2 + s3 + s4) % (pow(2, 64)))[2:].zfill(64)\n",
    "    return string"
   ]
  },
  {
   "cell_type": "code",
   "execution_count": 36,
   "id": "2ea8c165",
   "metadata": {},
   "outputs": [],
   "source": [
    "for i in range(16, 80):\n",
    "    string = next_W(W)\n",
    "    W.append(string)"
   ]
  },
  {
   "cell_type": "code",
   "execution_count": 37,
   "id": "4e2c6e93",
   "metadata": {},
   "outputs": [
    {
     "data": {
      "text/plain": [
       "80"
      ]
     },
     "execution_count": 37,
     "metadata": {},
     "output_type": "execute_result"
    }
   ],
   "source": [
    "len(W)"
   ]
  },
  {
   "cell_type": "code",
   "execution_count": 38,
   "id": "e8e3a8e4",
   "metadata": {},
   "outputs": [
    {
     "data": {
      "text/plain": [
       "{'a': 0, 'b': 1, 'c': 2, 'd': 3, 'e': 4, 'f': 5, 'g': 6, 'h': 7}"
      ]
     },
     "execution_count": 38,
     "metadata": {},
     "output_type": "execute_result"
    }
   ],
   "source": [
    "mapping = {chr(i):i-97 for i in range(97, 97+8)}\n",
    "mapping"
   ]
  },
  {
   "cell_type": "code",
   "execution_count": 39,
   "id": "badb351c",
   "metadata": {},
   "outputs": [],
   "source": [
    "bin_fraction_8primes= ['6a09e667f3bcc908',\n",
    " 'bb67ae8584caa73b',\n",
    " '3c6ef372fe94f82b',\n",
    " 'a54ff53a5f1d36f1',\n",
    " '510e527fade682d1',\n",
    " '9b05688c2b3e6c1f',\n",
    " '1f83d9abfb41bd6b',\n",
    " '5be0cd19137e2179']\n"
   ]
  },
  {
   "cell_type": "code",
   "execution_count": 40,
   "id": "1e1f4dda",
   "metadata": {},
   "outputs": [
    {
     "data": {
      "text/plain": [
       "['6a09e667f3bcc908',\n",
       " 'bb67ae8584caa73b',\n",
       " '3c6ef372fe94f82b',\n",
       " 'a54ff53a5f1d36f1',\n",
       " '510e527fade682d1',\n",
       " '9b05688c2b3e6c1f',\n",
       " '1f83d9abfb41bd6b',\n",
       " '5be0cd19137e2179']"
      ]
     },
     "execution_count": 40,
     "metadata": {},
     "output_type": "execute_result"
    }
   ],
   "source": [
    "register_strings = [bin_fraction_8primes[mapping[i]] for i in \"abcdefgh\"]\n",
    "register_strings"
   ]
  },
  {
   "cell_type": "code",
   "execution_count": 41,
   "id": "ea456c86",
   "metadata": {},
   "outputs": [],
   "source": [
    "#NESTED LOOPS"
   ]
  },
  {
   "cell_type": "code",
   "execution_count": 42,
   "id": "be898706",
   "metadata": {},
   "outputs": [],
   "source": [
    "def bit_wise_complement(x):\n",
    "    return x.translate(str.maketrans(\"01\",\"10\"))"
   ]
  },
  {
   "cell_type": "code",
   "execution_count": 44,
   "id": "87339de4",
   "metadata": {},
   "outputs": [],
   "source": [
    "def T1(register_strings, K, W, index):\n",
    "    h = int(register_strings[mapping['h']], 16)\n",
    "    e = int(register_strings[mapping['e']], 16)\n",
    "    f = int(register_strings[mapping['f']], 16)\n",
    "    g = int(register_strings[mapping['g']], 16)\n",
    "    \n",
    "    k = int(K[index], 16)\n",
    "    w = int(W[index], 2)\n",
    "    \n",
    "    s2 = int(Sigma_1(bin(e)[2:]), 2)\n",
    "    s3 = int(ch(bin(e)[2:], bin(f)[2:], bin(g)[2:]), 2)\n",
    "    \n",
    "    t1 = (h + s2 + s3 + k + w) % (pow(2, 64))\n",
    "    \n",
    "    return t1"
   ]
  },
  {
   "cell_type": "code",
   "execution_count": 47,
   "id": "15165040",
   "metadata": {},
   "outputs": [],
   "source": [
    "def cube_roots_64bits_hex(n): # the 64-bit of the fractional part of the cube root\n",
    "    return (hex(int(fmul(frac(cbrt(n)), pow(2, 64))))[2:])"
   ]
  },
  {
   "cell_type": "code",
   "execution_count": 48,
   "id": "3469f55d",
   "metadata": {},
   "outputs": [
    {
     "data": {
      "text/plain": [
       "'428a2f98d728b000'"
      ]
     },
     "execution_count": 48,
     "metadata": {},
     "output_type": "execute_result"
    }
   ],
   "source": [
    "cube_roots_64bits_hex(2)"
   ]
  },
  {
   "cell_type": "code",
   "execution_count": 50,
   "id": "888864b7",
   "metadata": {},
   "outputs": [
    {
     "data": {
      "text/plain": [
       "['6a09e667f3bcd000',\n",
       " 'bb67ae8584caa000',\n",
       " '3c6ef372fe950000',\n",
       " 'a54ff53a5f1d4000',\n",
       " '510e527fade68000',\n",
       " '9b05688c2b3e6000',\n",
       " '1f83d9abfb41c000',\n",
       " '5be0cd19137e4000']"
      ]
     },
     "execution_count": 50,
     "metadata": {},
     "output_type": "execute_result"
    }
   ],
   "source": [
    "bin_fraction_8primes = [sqrt_64bits_hex(i) for i in first_eight_primes]\n",
    "bin_fraction_8primes"
   ]
  },
  {
   "cell_type": "code",
   "execution_count": 52,
   "id": "2a8f5664",
   "metadata": {},
   "outputs": [
    {
     "data": {
      "text/plain": [
       "array('l', [2, 3, 5, 7, 11, 13, 17, 19, 23, 29, 31, 37, 41, 43, 47, 53, 59, 61, 67, 71, 73, 79, 83, 89, 97, 101, 103, 107, 109, 113, 127, 131, 137, 139, 149, 151, 157, 163, 167, 173, 179, 181, 191, 193, 197, 199, 211, 223, 227, 229, 233, 239, 241, 251, 257, 263, 269, 271, 277, 281, 283, 293, 307, 311, 313, 317, 331, 337, 347, 349, 353, 359, 367, 373, 379, 383, 389, 397, 401, 409])"
      ]
     },
     "execution_count": 52,
     "metadata": {},
     "output_type": "execute_result"
    }
   ],
   "source": [
    "first_eighty_primes = s.sieve[1:81] \n",
    "first_eighty_primes"
   ]
  },
  {
   "cell_type": "code",
   "execution_count": 56,
   "id": "933d0320",
   "metadata": {},
   "outputs": [
    {
     "data": {
      "text/plain": [
       "'428a2f98d728b000'"
      ]
     },
     "execution_count": 56,
     "metadata": {},
     "output_type": "execute_result"
    }
   ],
   "source": [
    "def cube_roots_64bits_hex(n): # the 64-bit of the fractional part of the cube root\n",
    "    return (hex(int(fmul(frac(cbrt(n)), pow(2, 64))))[2:])"
   ]
  },
  {
   "cell_type": "code",
   "execution_count": 67,
   "id": "0825864c",
   "metadata": {},
   "outputs": [
    {
     "data": {
      "text/plain": [
       "'428a2f98d728b000'"
      ]
     },
     "execution_count": 67,
     "metadata": {},
     "output_type": "execute_result"
    }
   ],
   "source": [
    "cube_roots_64bits_hex(2)"
   ]
  },
  {
   "cell_type": "code",
   "execution_count": 69,
   "id": "6ba8fbce",
   "metadata": {},
   "outputs": [],
   "source": [
    "bin_fraction_80primes = [cube_roots_64bits_hex(i) for i in first_eighty_primes]"
   ]
  },
  {
   "cell_type": "code",
   "execution_count": 70,
   "id": "a7d9985a",
   "metadata": {},
   "outputs": [
    {
     "data": {
      "text/plain": [
       "11495457743603067518"
      ]
     },
     "execution_count": 70,
     "metadata": {},
     "output_type": "execute_result"
    }
   ],
   "source": [
    "T1(register_strings, bin_fraction_80primes, W, 0)"
   ]
  },
  {
   "cell_type": "code",
   "execution_count": null,
   "id": "2db53160",
   "metadata": {},
   "outputs": [],
   "source": []
  },
  {
   "cell_type": "code",
   "execution_count": 72,
   "id": "6fdc1d71",
   "metadata": {},
   "outputs": [],
   "source": [
    "def T2(register_strings):\n",
    "    a = bin(int(register_strings[mapping['a']], 16))[2:].zfill(64)\n",
    "    b = bin(int(register_strings[mapping['b']], 16))[2:].zfill(64)\n",
    "    c = bin(int(register_strings[mapping['c']], 16))[2:].zfill(64)\n",
    "    \n",
    "    return ((int(Sigma_0(a), 2) + int(maj(a,b,c), 2)) % (pow(2, 64)))"
   ]
  },
  {
   "cell_type": "code",
   "execution_count": 77,
   "id": "121484ac",
   "metadata": {},
   "outputs": [
    {
     "data": {
      "text/plain": [
       "4842708523825821013"
      ]
     },
     "execution_count": 77,
     "metadata": {},
     "output_type": "execute_result"
    }
   ],
   "source": [
    "T2(register_strings)"
   ]
  },
  {
   "cell_type": "code",
   "execution_count": 74,
   "id": "0fab3dd2",
   "metadata": {},
   "outputs": [],
   "source": [
    "def main_loop(register_strings, K, W, index):\n",
    "    t1 = T1(register_strings, K, W, index)\n",
    "    t2 = T2(register_strings)\n",
    "    \n",
    "    a = int(register_strings[mapping['a']], 16)\n",
    "    b = int(register_strings[mapping['b']], 16)\n",
    "    c = int(register_strings[mapping['c']], 16)\n",
    "    d = int(register_strings[mapping['d']], 16)\n",
    "    e = int(register_strings[mapping['e']], 16)\n",
    "    f = int(register_strings[mapping['f']], 16)\n",
    "    g = int(register_strings[mapping['g']], 16)\n",
    "    h = int(register_strings[mapping['h']], 16)\n",
    "    \n",
    "    h = hex(g)[2:]\n",
    "    g = hex(f)[2:]\n",
    "    f = hex(e)[2:]\n",
    "    e = hex((d + t1) % pow(2, 64))[2:]\n",
    "    d = hex(c)[2:]\n",
    "    c = hex(b)[2:]\n",
    "    b = hex(a)[2:]\n",
    "    a = hex((t1 + t2) % pow(2, 64))[2:]\n",
    "    \n",
    "    register_strings_2 = [a,b,c,d,e,f,g,h]\n",
    "    \n",
    "    return register_strings_2"
   ]
  },
  {
   "cell_type": "code",
   "execution_count": 75,
   "id": "c237e8b3",
   "metadata": {},
   "outputs": [],
   "source": [
    "register_strings= ['6a09e667f3bcc908',\n",
    " 'bb67ae8584caa73b',\n",
    " '3c6ef372fe94f82b',\n",
    " 'a54ff53a5f1d36f1',\n",
    " '510e527fade682d1',\n",
    " '9b05688c2b3e6c1f',\n",
    " '1f83d9abfb41bd6b',\n",
    " '5be0cd19137e2179']"
   ]
  },
  {
   "cell_type": "code",
   "execution_count": 76,
   "id": "3dc95571",
   "metadata": {},
   "outputs": [
    {
     "data": {
      "text/plain": [
       "['e2bcd3a82b5e5fd3',\n",
       " '6a09e667f3bcc908',\n",
       " 'bb67ae8584caa73b',\n",
       " '3c6ef372fe94f82b',\n",
       " '44d80723e916a16f',\n",
       " '510e527fade682d1',\n",
       " '9b05688c2b3e6c1f',\n",
       " '1f83d9abfb41bd6b']"
      ]
     },
     "execution_count": 76,
     "metadata": {},
     "output_type": "execute_result"
    }
   ],
   "source": [
    "main_loop(register_strings, bin_fraction_80primes, W, 0)"
   ]
  },
  {
   "cell_type": "code",
   "execution_count": 63,
   "id": "157133e3",
   "metadata": {},
   "outputs": [],
   "source": [
    "new_register_strings= ['73a54f399fa4b1b2',\n",
    " '10d9c4c4295599f6',\n",
    " 'd67806db8b148677',\n",
    " '654ef9abec389ca9',\n",
    " 'd08446aa79693ed7',\n",
    " '9bb4d39778c07f9e',\n",
    " '25c96a7768fb2aa3',\n",
    " 'ceb9fc3691ce8326']\n",
    "\n"
   ]
  },
  {
   "cell_type": "code",
   "execution_count": null,
   "id": "0a8b6874",
   "metadata": {},
   "outputs": [],
   "source": [
    "register_strings, new_register_strings"
   ]
  },
  {
   "cell_type": "code",
   "execution_count": null,
   "id": "8e141bd7",
   "metadata": {},
   "outputs": [],
   "source": [
    "def right_rotation(string, n):\n",
    "    n = n % len(string)\n",
    "    return string[-n:] + string[:-n]"
   ]
  },
  {
   "cell_type": "code",
   "execution_count": null,
   "id": "786d66dd",
   "metadata": {},
   "outputs": [],
   "source": [
    "def ch(x, y, z):\n",
    "    x = x.zfill(64)\n",
    "    \n",
    "    s1 = int(x, 2)\n",
    "    s2 = int(y, 2)\n",
    "    s3 = int(z, 2)\n",
    "    \n",
    "    s12 = s1 & s2\n",
    "    \n",
    "    s13 = int(bit_wise_complement(x), 2) & s3\n",
    "    \n",
    "    string = bin(s12 ^ s13)[2:]\n",
    "    \n",
    "    return (string.zfill(64))"
   ]
  },
  {
   "cell_type": "code",
   "execution_count": null,
   "id": "fa1a52d9",
   "metadata": {},
   "outputs": [],
   "source": [
    "def maj(x, y, z):\n",
    "    s1 = int(x, 2)\n",
    "    s2 = int(y, 2)\n",
    "    s3 = int(z, 2)\n",
    "    \n",
    "    s12 = s1 & s2\n",
    "    s13 = s1 & s3\n",
    "    s23 = s2 & s3\n",
    "    \n",
    "    string = bin(s12 ^ s13 ^ s23)[2:]\n",
    "    \n",
    "    return (string.zfill(64))"
   ]
  },
  {
   "cell_type": "code",
   "execution_count": null,
   "id": "7139062e",
   "metadata": {},
   "outputs": [],
   "source": [
    "list(zip(register_strings, new_register_strings))"
   ]
  },
  {
   "cell_type": "code",
   "execution_count": null,
   "id": "91f5abb4",
   "metadata": {},
   "outputs": [],
   "source": [
    "def update_register_strings(reg_str1, reg_str2):\n",
    "    reg_str3 = [hex((int(a, 16) + int(b, 16)) % (pow(2, 64)))[2:].zfill(16) for a, b in zip(reg_str1, reg_str2)]\n",
    "    return reg_str3"
   ]
  },
  {
   "cell_type": "code",
   "execution_count": null,
   "id": "42fd9490",
   "metadata": {},
   "outputs": [],
   "source": [
    "update_register_strings(register_strings, new_register_strings)"
   ]
  },
  {
   "cell_type": "code",
   "execution_count": null,
   "id": "40909128",
   "metadata": {},
   "outputs": [],
   "source": [
    "''.join(update_register_strings(register_strings, new_register_strings))"
   ]
  },
  {
   "cell_type": "code",
   "execution_count": null,
   "id": "c69691cb",
   "metadata": {},
   "outputs": [],
   "source": [
    "len"
   ]
  }
 ],
 "metadata": {
  "kernelspec": {
   "display_name": "Python 3 (ipykernel)",
   "language": "python",
   "name": "python3"
  },
  "language_info": {
   "codemirror_mode": {
    "name": "ipython",
    "version": 3
   },
   "file_extension": ".py",
   "mimetype": "text/x-python",
   "name": "python",
   "nbconvert_exporter": "python",
   "pygments_lexer": "ipython3",
   "version": "3.9.12"
  }
 },
 "nbformat": 4,
 "nbformat_minor": 5
}
